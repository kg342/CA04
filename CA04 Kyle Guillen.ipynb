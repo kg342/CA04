{
 "cells": [
  {
   "cell_type": "code",
   "execution_count": 19,
   "id": "2555334f",
   "metadata": {},
   "outputs": [],
   "source": [
    "#Loading in Packages\n",
    "import pandas as pd\n",
    "import matplotlib.pyplot as plt\n",
    "import numpy as np\n",
    "from sklearn.tree import DecisionTreeClassifier\n",
    "from sklearn.tree import export_text\n",
    "from sklearn import tree\n",
    "from sklearn import metrics"
   ]
  },
  {
   "cell_type": "code",
   "execution_count": 2,
   "id": "0a2daf69",
   "metadata": {},
   "outputs": [
    {
     "name": "stdout",
     "output_type": "stream",
     "text": [
      "Collecting package metadata (current_repodata.json): done\n",
      "Solving environment: done\n",
      "\n",
      "## Package Plan ##\n",
      "\n",
      "  environment location: /Users/kyleguillen/opt/anaconda3\n",
      "\n",
      "  added / updated specs:\n",
      "    - py-xgboost\n",
      "\n",
      "\n",
      "The following packages will be downloaded:\n",
      "\n",
      "    package                    |            build\n",
      "    ---------------------------|-----------------\n",
      "    _py-xgboost-mutex-2.0      |            cpu_0           8 KB\n",
      "    libxgboost-1.5.0           |       he9d5cce_1         1.2 MB\n",
      "    py-xgboost-1.5.0           |   py39hecd8cb5_1         166 KB\n",
      "    ------------------------------------------------------------\n",
      "                                           Total:         1.4 MB\n",
      "\n",
      "The following NEW packages will be INSTALLED:\n",
      "\n",
      "  _py-xgboost-mutex  pkgs/main/osx-64::_py-xgboost-mutex-2.0-cpu_0\n",
      "  libxgboost         pkgs/main/osx-64::libxgboost-1.5.0-he9d5cce_1\n",
      "  py-xgboost         pkgs/main/osx-64::py-xgboost-1.5.0-py39hecd8cb5_1\n",
      "\n",
      "\n",
      "\n",
      "Downloading and Extracting Packages\n",
      "_py-xgboost-mutex-2. | 8 KB      | ##################################### | 100% \n",
      "py-xgboost-1.5.0     | 166 KB    | ##################################### | 100% \n",
      "libxgboost-1.5.0     | 1.2 MB    | ##################################### | 100% \n",
      "Preparing transaction: done\n",
      "Verifying transaction: done\n",
      "Executing transaction: done\n",
      "\n",
      "Note: you may need to restart the kernel to use updated packages.\n"
     ]
    }
   ],
   "source": [
    "conda install py-xgboost"
   ]
  },
  {
   "cell_type": "code",
   "execution_count": 20,
   "id": "a293b288",
   "metadata": {},
   "outputs": [],
   "source": [
    "#read in Data\n",
    "url = 'https://github.com/ArinB/MSBA-CA-Data/blob/main/CA03/census_data.csv?raw=true'\n",
    "data = pd.read_csv(url, encoding = \"ISO-8859-1\")"
   ]
  },
  {
   "cell_type": "code",
   "execution_count": 21,
   "id": "38dc0f91",
   "metadata": {
    "scrolled": false
   },
   "outputs": [
    {
     "data": {
      "text/html": [
       "<div>\n",
       "<style scoped>\n",
       "    .dataframe tbody tr th:only-of-type {\n",
       "        vertical-align: middle;\n",
       "    }\n",
       "\n",
       "    .dataframe tbody tr th {\n",
       "        vertical-align: top;\n",
       "    }\n",
       "\n",
       "    .dataframe thead th {\n",
       "        text-align: right;\n",
       "    }\n",
       "</style>\n",
       "<table border=\"1\" class=\"dataframe\">\n",
       "  <thead>\n",
       "    <tr style=\"text-align: right;\">\n",
       "      <th></th>\n",
       "      <th>hours_per_week_bin</th>\n",
       "      <th>occupation_bin</th>\n",
       "      <th>msr_bin</th>\n",
       "      <th>capital_gl_bin</th>\n",
       "      <th>race_sex_bin</th>\n",
       "      <th>education_num_bin</th>\n",
       "      <th>education_bin</th>\n",
       "      <th>workclass_bin</th>\n",
       "      <th>age_bin</th>\n",
       "      <th>flag</th>\n",
       "      <th>y</th>\n",
       "    </tr>\n",
       "  </thead>\n",
       "  <tbody>\n",
       "    <tr>\n",
       "      <th>0</th>\n",
       "      <td>b. 31-40</td>\n",
       "      <td>b. Mid - Low</td>\n",
       "      <td>b. Mid</td>\n",
       "      <td>c. &gt; 0</td>\n",
       "      <td>c. High</td>\n",
       "      <td>c. 13</td>\n",
       "      <td>c. Bachelors</td>\n",
       "      <td>b. income</td>\n",
       "      <td>d. 36-40 &amp; 56-60</td>\n",
       "      <td>train</td>\n",
       "      <td>0</td>\n",
       "    </tr>\n",
       "    <tr>\n",
       "      <th>1</th>\n",
       "      <td>a. 0-30</td>\n",
       "      <td>e. High</td>\n",
       "      <td>c. High</td>\n",
       "      <td>a. = 0</td>\n",
       "      <td>c. High</td>\n",
       "      <td>c. 13</td>\n",
       "      <td>c. Bachelors</td>\n",
       "      <td>b. income</td>\n",
       "      <td>e. 40-55</td>\n",
       "      <td>train</td>\n",
       "      <td>0</td>\n",
       "    </tr>\n",
       "    <tr>\n",
       "      <th>2</th>\n",
       "      <td>b. 31-40</td>\n",
       "      <td>a. Low</td>\n",
       "      <td>b. Mid</td>\n",
       "      <td>a. = 0</td>\n",
       "      <td>c. High</td>\n",
       "      <td>b. 9-12</td>\n",
       "      <td>b. Mid</td>\n",
       "      <td>b. income</td>\n",
       "      <td>d. 36-40 &amp; 56-60</td>\n",
       "      <td>train</td>\n",
       "      <td>0</td>\n",
       "    </tr>\n",
       "    <tr>\n",
       "      <th>3</th>\n",
       "      <td>b. 31-40</td>\n",
       "      <td>a. Low</td>\n",
       "      <td>c. High</td>\n",
       "      <td>a. = 0</td>\n",
       "      <td>b. Mid</td>\n",
       "      <td>a. 0-8</td>\n",
       "      <td>a. Low</td>\n",
       "      <td>b. income</td>\n",
       "      <td>e. 40-55</td>\n",
       "      <td>train</td>\n",
       "      <td>0</td>\n",
       "    </tr>\n",
       "    <tr>\n",
       "      <th>4</th>\n",
       "      <td>b. 31-40</td>\n",
       "      <td>e. High</td>\n",
       "      <td>c. High</td>\n",
       "      <td>a. = 0</td>\n",
       "      <td>a. Low</td>\n",
       "      <td>c. 13</td>\n",
       "      <td>c. Bachelors</td>\n",
       "      <td>b. income</td>\n",
       "      <td>b. 26-30 &amp; 71-100</td>\n",
       "      <td>train</td>\n",
       "      <td>0</td>\n",
       "    </tr>\n",
       "  </tbody>\n",
       "</table>\n",
       "</div>"
      ],
      "text/plain": [
       "  hours_per_week_bin occupation_bin  msr_bin capital_gl_bin race_sex_bin  \\\n",
       "0           b. 31-40   b. Mid - Low   b. Mid         c. > 0      c. High   \n",
       "1            a. 0-30        e. High  c. High         a. = 0      c. High   \n",
       "2           b. 31-40         a. Low   b. Mid         a. = 0      c. High   \n",
       "3           b. 31-40         a. Low  c. High         a. = 0       b. Mid   \n",
       "4           b. 31-40        e. High  c. High         a. = 0       a. Low   \n",
       "\n",
       "  education_num_bin education_bin workclass_bin            age_bin   flag  y  \n",
       "0             c. 13  c. Bachelors     b. income   d. 36-40 & 56-60  train  0  \n",
       "1             c. 13  c. Bachelors     b. income           e. 40-55  train  0  \n",
       "2           b. 9-12        b. Mid     b. income   d. 36-40 & 56-60  train  0  \n",
       "3            a. 0-8        a. Low     b. income           e. 40-55  train  0  \n",
       "4             c. 13  c. Bachelors     b. income  b. 26-30 & 71-100  train  0  "
      ]
     },
     "execution_count": 21,
     "metadata": {},
     "output_type": "execute_result"
    }
   ],
   "source": [
    "data.head()"
   ]
  },
  {
   "cell_type": "code",
   "execution_count": 22,
   "id": "f172ccf7",
   "metadata": {},
   "outputs": [],
   "source": [
    "#Segmenting data into training and testing data as well as isolating independent variables from response variable\n",
    "Train_Data = data[data.flag == \"train\"]\n",
    "Y_Train = Train_Data[\"y\"]\n",
    "Test_Data = data[data.flag == \"test\"]\n",
    "Y_Test = Test_Data[\"y\"]\n",
    "Train_Data_X = Train_Data.drop(columns = [\"flag\",\"y\"])\n",
    "Test_Data_X = Test_Data.drop(columns = [\"flag\",\"y\"])"
   ]
  },
  {
   "cell_type": "code",
   "execution_count": 23,
   "id": "ff020f4c",
   "metadata": {},
   "outputs": [
    {
     "data": {
      "text/plain": [
       "<16281x36 sparse matrix of type '<class 'numpy.float64'>'\n",
       "\twith 146529 stored elements in Compressed Sparse Row format>"
      ]
     },
     "execution_count": 23,
     "metadata": {},
     "output_type": "execute_result"
    }
   ],
   "source": [
    "#convert categorical variables into numeric encodings using OneHotEncoder\n",
    "from sklearn.preprocessing import OneHotEncoder\n",
    "enc = OneHotEncoder()\n",
    "Train_Coded = enc.fit_transform(Train_Data_X)\n",
    "Train_Coded\n",
    "Test_Coded = enc.transform(Test_Data_X)\n",
    "Test_Coded"
   ]
  },
  {
   "cell_type": "code",
   "execution_count": 24,
   "id": "14d0e9a4",
   "metadata": {},
   "outputs": [],
   "source": [
    "%matplotlib inline"
   ]
  },
  {
   "cell_type": "code",
   "execution_count": 26,
   "id": "c1a02f16",
   "metadata": {},
   "outputs": [],
   "source": [
    "from sklearn.ensemble import RandomForestClassifier"
   ]
  },
  {
   "cell_type": "code",
   "execution_count": 27,
   "id": "5021d85f",
   "metadata": {},
   "outputs": [
    {
     "data": {
      "text/plain": [
       "<AxesSubplot:>"
      ]
     },
     "execution_count": 27,
     "metadata": {},
     "output_type": "execute_result"
    },
    {
     "data": {
      "image/png": "[encoded data removed]",
      "text/plain": [
       "<Figure size 576x288 with 1 Axes>"
      ]
     },
     "metadata": {
      "needs_background": "light"
     },
     "output_type": "display_data"
    }
   ],
   "source": [
    "#for loop to test multiple options for n_estimator RandomForest\n",
    "Acc_Results = []\n",
    "n_estimators = [50,100,150,200,250,300,350,400,450,500]\n",
    "\n",
    "for estimator in n_estimators:\n",
    "    model = RandomForestClassifier(n_estimators= estimator, random_state=4)\n",
    "    model.fit(Train_Coded, Y_Train)\n",
    "    y_pred = model.predict(Test_Coded)\n",
    "    acc = metrics.accuracy_score(Y_Test, y_pred)\n",
    "    Acc_Results.append(acc)\n",
    "    \n",
    "plt.figure(figsize=(8,4))\n",
    "pd.Series(Acc_Results, n_estimators).plot(color = \"red\", marker = \"x\")"
   ]
  },
  {
   "cell_type": "code",
   "execution_count": 67,
   "id": "1368fdb3",
   "metadata": {},
   "outputs": [],
   "source": [
    "from sklearn.ensemble import AdaBoostClassifier, GradientBoostingClassifier, GradientBoostingRegressor"
   ]
  },
  {
   "cell_type": "code",
   "execution_count": 29,
   "id": "e3bf09df",
   "metadata": {},
   "outputs": [
    {
     "name": "stdout",
     "output_type": "stream",
     "text": [
      "50\n",
      "100\n",
      "150\n",
      "200\n",
      "250\n",
      "300\n",
      "350\n",
      "400\n",
      "450\n",
      "500\n"
     ]
    },
    {
     "data": {
      "text/plain": [
       "<AxesSubplot:>"
      ]
     },
     "execution_count": 29,
     "metadata": {},
     "output_type": "execute_result"
    },
    {
     "data": {
      "image/png": "[encoded data removed]",
      "text/plain": [
       "<Figure size 576x288 with 1 Axes>"
      ]
     },
     "metadata": {
      "needs_background": "light"
     },
     "output_type": "display_data"
    }
   ],
   "source": [
    "#for loop to test multiple options for n_estimator AdaBoost\n",
    "Acc_Results = []\n",
    "n_estimators = [50,100,150,200,250,300,350,400,450,500]\n",
    "\n",
    "for estimator in n_estimators:\n",
    "    AdaModel = AdaBoostClassifier(n_estimators= estimator, random_state=4)\n",
    "    AdaModel.fit(Train_Coded, Y_Train)\n",
    "    y_pred = AdaModel.predict(Test_Coded)\n",
    "    acc = metrics.accuracy_score(Y_Test, y_pred)\n",
    "    Acc_Results.append(acc)\n",
    "    \n",
    "plt.figure(figsize=(8,4))\n",
    "pd.Series(Acc_Results, n_estimators).plot(color = \"red\", marker = \"x\")"
   ]
  },
  {
   "cell_type": "code",
   "execution_count": 69,
   "id": "ea8d447c",
   "metadata": {},
   "outputs": [
    {
     "data": {
      "text/plain": [
       "<AxesSubplot:>"
      ]
     },
     "execution_count": 69,
     "metadata": {},
     "output_type": "execute_result"
    },
    {
     "data": {
      "image/png": "[encoded data removed]",
      "text/plain": [
       "<Figure size 576x288 with 1 Axes>"
      ]
     },
     "metadata": {
      "needs_background": "light"
     },
     "output_type": "display_data"
    }
   ],
   "source": [
    "#for loop to test multiple options for n_estimator GradientBoost\n",
    "Acc_Results = []\n",
    "n_estimators = [50,100,150,200,250,300,350,400,450,500]\n",
    "\n",
    "for estimator in n_estimators:\n",
    "    GBModel = GradientBoostingClassifier(n_estimators= estimator, random_state=4, max_depth=)\n",
    "    GBModel.fit(Train_Coded, Y_Train)\n",
    "    y_pred = GBModel.predict(Test_Coded)\n",
    "    acc = metrics.accuracy_score(Y_Test, y_pred)\n",
    "    Acc_Results.append(acc)\n",
    "    \n",
    "plt.figure(figsize=(8,4))\n",
    "pd.Series(Acc_Results, n_estimators).plot(color = \"red\", marker = \"x\")"
   ]
  },
  {
   "cell_type": "code",
   "execution_count": 27,
   "id": "195ed6cd",
   "metadata": {},
   "outputs": [
    {
     "name": "stdout",
     "output_type": "stream",
     "text": [
      "Collecting package metadata (current_repodata.json): done\n",
      "Solving environment: failed with initial frozen solve. Retrying with flexible solve.\n",
      "Collecting package metadata (repodata.json): done\n",
      "Solving environment: failed with initial frozen solve. Retrying with flexible solve.\n",
      "\n",
      "PackagesNotFoundError: The following packages are not available from current channels:\n",
      "\n",
      "  - libomp\n",
      "\n",
      "Current channels:\n",
      "\n",
      "  - https://repo.anaconda.com/pkgs/main/osx-64\n",
      "  - https://repo.anaconda.com/pkgs/main/noarch\n",
      "  - https://repo.anaconda.com/pkgs/r/osx-64\n",
      "  - https://repo.anaconda.com/pkgs/r/noarch\n",
      "\n",
      "To search for alternate channels that may provide the conda package you're\n",
      "looking for, navigate to\n",
      "\n",
      "    https://anaconda.org\n",
      "\n",
      "and use the search bar at the top of the page.\n",
      "\n",
      "\n",
      "\n",
      "Note: you may need to restart the kernel to use updated packages.\n"
     ]
    }
   ],
   "source": [
    "conda install libomp"
   ]
  },
  {
   "cell_type": "code",
   "execution_count": 31,
   "id": "c6c7e72e",
   "metadata": {},
   "outputs": [],
   "source": [
    "import xgboost as xgb"
   ]
  },
  {
   "cell_type": "code",
   "execution_count": 32,
   "id": "0fab52ec",
   "metadata": {},
   "outputs": [],
   "source": [
    "DTrain = xgb.DMatrix(Train_Coded, label=Y_Train)\n",
    "DTest = xgb.DMatrix(Test_Coded, label=Y_Test)"
   ]
  },
  {
   "cell_type": "code",
   "execution_count": 37,
   "id": "72a1b039",
   "metadata": {},
   "outputs": [
    {
     "name": "stderr",
     "output_type": "stream",
     "text": [
      "/Users/kyleguillen/opt/anaconda3/lib/python3.9/site-packages/xgboost/sklearn.py:1224: UserWarning: The use of label encoder in XGBClassifier is deprecated and will be removed in a future release. To remove this warning, do the following: 1) Pass option use_label_encoder=False when constructing XGBClassifier object; and 2) Encode your labels (y) as integers starting with 0, i.e. 0, 1, 2, ..., [num_class - 1].\n",
      "  warnings.warn(label_encoder_deprecation_msg, UserWarning)\n"
     ]
    },
    {
     "name": "stdout",
     "output_type": "stream",
     "text": [
      "[17:42:25] WARNING: ../src/learner.cc:1115: Starting in XGBoost 1.3.0, the default evaluation metric used with the objective 'binary:logistic' was changed from 'error' to 'logloss'. Explicitly set eval_metric if you'd like to restore the old behavior.\n"
     ]
    },
    {
     "name": "stderr",
     "output_type": "stream",
     "text": [
      "/Users/kyleguillen/opt/anaconda3/lib/python3.9/site-packages/xgboost/sklearn.py:1224: UserWarning: The use of label encoder in XGBClassifier is deprecated and will be removed in a future release. To remove this warning, do the following: 1) Pass option use_label_encoder=False when constructing XGBClassifier object; and 2) Encode your labels (y) as integers starting with 0, i.e. 0, 1, 2, ..., [num_class - 1].\n",
      "  warnings.warn(label_encoder_deprecation_msg, UserWarning)\n"
     ]
    },
    {
     "name": "stdout",
     "output_type": "stream",
     "text": [
      "[17:42:25] WARNING: ../src/learner.cc:1115: Starting in XGBoost 1.3.0, the default evaluation metric used with the objective 'binary:logistic' was changed from 'error' to 'logloss'. Explicitly set eval_metric if you'd like to restore the old behavior.\n"
     ]
    },
    {
     "name": "stderr",
     "output_type": "stream",
     "text": [
      "/Users/kyleguillen/opt/anaconda3/lib/python3.9/site-packages/xgboost/sklearn.py:1224: UserWarning: The use of label encoder in XGBClassifier is deprecated and will be removed in a future release. To remove this warning, do the following: 1) Pass option use_label_encoder=False when constructing XGBClassifier object; and 2) Encode your labels (y) as integers starting with 0, i.e. 0, 1, 2, ..., [num_class - 1].\n",
      "  warnings.warn(label_encoder_deprecation_msg, UserWarning)\n"
     ]
    },
    {
     "name": "stdout",
     "output_type": "stream",
     "text": [
      "[17:42:26] WARNING: ../src/learner.cc:1115: Starting in XGBoost 1.3.0, the default evaluation metric used with the objective 'binary:logistic' was changed from 'error' to 'logloss'. Explicitly set eval_metric if you'd like to restore the old behavior.\n"
     ]
    },
    {
     "name": "stderr",
     "output_type": "stream",
     "text": [
      "/Users/kyleguillen/opt/anaconda3/lib/python3.9/site-packages/xgboost/sklearn.py:1224: UserWarning: The use of label encoder in XGBClassifier is deprecated and will be removed in a future release. To remove this warning, do the following: 1) Pass option use_label_encoder=False when constructing XGBClassifier object; and 2) Encode your labels (y) as integers starting with 0, i.e. 0, 1, 2, ..., [num_class - 1].\n",
      "  warnings.warn(label_encoder_deprecation_msg, UserWarning)\n"
     ]
    },
    {
     "name": "stdout",
     "output_type": "stream",
     "text": [
      "[17:42:27] WARNING: ../src/learner.cc:1115: Starting in XGBoost 1.3.0, the default evaluation metric used with the objective 'binary:logistic' was changed from 'error' to 'logloss'. Explicitly set eval_metric if you'd like to restore the old behavior.\n"
     ]
    },
    {
     "name": "stderr",
     "output_type": "stream",
     "text": [
      "/Users/kyleguillen/opt/anaconda3/lib/python3.9/site-packages/xgboost/sklearn.py:1224: UserWarning: The use of label encoder in XGBClassifier is deprecated and will be removed in a future release. To remove this warning, do the following: 1) Pass option use_label_encoder=False when constructing XGBClassifier object; and 2) Encode your labels (y) as integers starting with 0, i.e. 0, 1, 2, ..., [num_class - 1].\n",
      "  warnings.warn(label_encoder_deprecation_msg, UserWarning)\n"
     ]
    },
    {
     "name": "stdout",
     "output_type": "stream",
     "text": [
      "[17:42:29] WARNING: ../src/learner.cc:1115: Starting in XGBoost 1.3.0, the default evaluation metric used with the objective 'binary:logistic' was changed from 'error' to 'logloss'. Explicitly set eval_metric if you'd like to restore the old behavior.\n"
     ]
    },
    {
     "name": "stderr",
     "output_type": "stream",
     "text": [
      "/Users/kyleguillen/opt/anaconda3/lib/python3.9/site-packages/xgboost/sklearn.py:1224: UserWarning: The use of label encoder in XGBClassifier is deprecated and will be removed in a future release. To remove this warning, do the following: 1) Pass option use_label_encoder=False when constructing XGBClassifier object; and 2) Encode your labels (y) as integers starting with 0, i.e. 0, 1, 2, ..., [num_class - 1].\n",
      "  warnings.warn(label_encoder_deprecation_msg, UserWarning)\n"
     ]
    },
    {
     "name": "stdout",
     "output_type": "stream",
     "text": [
      "[17:42:31] WARNING: ../src/learner.cc:1115: Starting in XGBoost 1.3.0, the default evaluation metric used with the objective 'binary:logistic' was changed from 'error' to 'logloss'. Explicitly set eval_metric if you'd like to restore the old behavior.\n"
     ]
    },
    {
     "name": "stderr",
     "output_type": "stream",
     "text": [
      "/Users/kyleguillen/opt/anaconda3/lib/python3.9/site-packages/xgboost/sklearn.py:1224: UserWarning: The use of label encoder in XGBClassifier is deprecated and will be removed in a future release. To remove this warning, do the following: 1) Pass option use_label_encoder=False when constructing XGBClassifier object; and 2) Encode your labels (y) as integers starting with 0, i.e. 0, 1, 2, ..., [num_class - 1].\n",
      "  warnings.warn(label_encoder_deprecation_msg, UserWarning)\n"
     ]
    },
    {
     "name": "stdout",
     "output_type": "stream",
     "text": [
      "[17:42:33] WARNING: ../src/learner.cc:1115: Starting in XGBoost 1.3.0, the default evaluation metric used with the objective 'binary:logistic' was changed from 'error' to 'logloss'. Explicitly set eval_metric if you'd like to restore the old behavior.\n"
     ]
    },
    {
     "name": "stderr",
     "output_type": "stream",
     "text": [
      "/Users/kyleguillen/opt/anaconda3/lib/python3.9/site-packages/xgboost/sklearn.py:1224: UserWarning: The use of label encoder in XGBClassifier is deprecated and will be removed in a future release. To remove this warning, do the following: 1) Pass option use_label_encoder=False when constructing XGBClassifier object; and 2) Encode your labels (y) as integers starting with 0, i.e. 0, 1, 2, ..., [num_class - 1].\n",
      "  warnings.warn(label_encoder_deprecation_msg, UserWarning)\n"
     ]
    },
    {
     "name": "stdout",
     "output_type": "stream",
     "text": [
      "[17:42:36] WARNING: ../src/learner.cc:1115: Starting in XGBoost 1.3.0, the default evaluation metric used with the objective 'binary:logistic' was changed from 'error' to 'logloss'. Explicitly set eval_metric if you'd like to restore the old behavior.\n"
     ]
    },
    {
     "name": "stderr",
     "output_type": "stream",
     "text": [
      "/Users/kyleguillen/opt/anaconda3/lib/python3.9/site-packages/xgboost/sklearn.py:1224: UserWarning: The use of label encoder in XGBClassifier is deprecated and will be removed in a future release. To remove this warning, do the following: 1) Pass option use_label_encoder=False when constructing XGBClassifier object; and 2) Encode your labels (y) as integers starting with 0, i.e. 0, 1, 2, ..., [num_class - 1].\n",
      "  warnings.warn(label_encoder_deprecation_msg, UserWarning)\n"
     ]
    },
    {
     "name": "stdout",
     "output_type": "stream",
     "text": [
      "[17:42:39] WARNING: ../src/learner.cc:1115: Starting in XGBoost 1.3.0, the default evaluation metric used with the objective 'binary:logistic' was changed from 'error' to 'logloss'. Explicitly set eval_metric if you'd like to restore the old behavior.\n"
     ]
    },
    {
     "name": "stderr",
     "output_type": "stream",
     "text": [
      "/Users/kyleguillen/opt/anaconda3/lib/python3.9/site-packages/xgboost/sklearn.py:1224: UserWarning: The use of label encoder in XGBClassifier is deprecated and will be removed in a future release. To remove this warning, do the following: 1) Pass option use_label_encoder=False when constructing XGBClassifier object; and 2) Encode your labels (y) as integers starting with 0, i.e. 0, 1, 2, ..., [num_class - 1].\n",
      "  warnings.warn(label_encoder_deprecation_msg, UserWarning)\n"
     ]
    },
    {
     "name": "stdout",
     "output_type": "stream",
     "text": [
      "[17:42:42] WARNING: ../src/learner.cc:1115: Starting in XGBoost 1.3.0, the default evaluation metric used with the objective 'binary:logistic' was changed from 'error' to 'logloss'. Explicitly set eval_metric if you'd like to restore the old behavior.\n"
     ]
    },
    {
     "data": {
      "text/plain": [
       "<AxesSubplot:>"
      ]
     },
     "execution_count": 37,
     "metadata": {},
     "output_type": "execute_result"
    },
    {
     "data": {
      "image/png": "[encoded data removed]",
      "text/plain": [
       "<Figure size 576x288 with 1 Axes>"
      ]
     },
     "metadata": {
      "needs_background": "light"
     },
     "output_type": "display_data"
    }
   ],
   "source": [
    "#for loop to test multiple options for n_estimator XG Boost\n",
    "Acc_Results = []\n",
    "n_estimators = [50,100,150,200,250,300,350,400,450,500]\n",
    "\n",
    "for estimator in n_estimators:\n",
    "    XGModel = xgb.XGBClassifier(n_estimators = estimator, random_state = 4)\n",
    "    XGModel.fit(Train_Coded, Y_Train)\n",
    "    y_pred = XGModel.predict(Test_Coded)\n",
    "    acc = metrics.accuracy_score(Y_Test, y_pred)\n",
    "    Acc_Results.append(acc)\n",
    "    \n",
    "plt.figure(figsize=(8,4))\n",
    "pd.Series(Acc_Results, n_estimators).plot(color = \"red\", marker = \"x\")"
   ]
  },
  {
   "cell_type": "code",
   "execution_count": 79,
   "id": "fe7ec428",
   "metadata": {},
   "outputs": [
    {
     "name": "stderr",
     "output_type": "stream",
     "text": [
      "/Users/kyleguillen/opt/anaconda3/lib/python3.9/site-packages/xgboost/sklearn.py:1224: UserWarning: The use of label encoder in XGBClassifier is deprecated and will be removed in a future release. To remove this warning, do the following: 1) Pass option use_label_encoder=False when constructing XGBClassifier object; and 2) Encode your labels (y) as integers starting with 0, i.e. 0, 1, 2, ..., [num_class - 1].\n",
      "  warnings.warn(label_encoder_deprecation_msg, UserWarning)\n"
     ]
    },
    {
     "name": "stdout",
     "output_type": "stream",
     "text": [
      "[13:27:28] WARNING: ../src/learner.cc:1115: Starting in XGBoost 1.3.0, the default evaluation metric used with the objective 'binary:logistic' was changed from 'error' to 'logloss'. Explicitly set eval_metric if you'd like to restore the old behavior.\n"
     ]
    }
   ],
   "source": [
    "#Step 5, compare performance between models with n_estimators set to 200\n",
    "CompTable = pd.DataFrame(index=['Accuracy', 'AUC'], columns = ['Random Forest', 'AdaBoost', 'Gradient Boost', 'XGB'])\n",
    "n_est = 200\n",
    "\n",
    "#Random Forest\n",
    "model = RandomForestClassifier(n_estimators= n_est, random_state=4, max_depth=12)\n",
    "model.fit(Train_Coded, Y_Train)\n",
    "y_pred = model.predict(Test_Coded)\n",
    "y_prob = model.predict_proba(Test_Coded)\n",
    "acc = metrics.accuracy_score(Y_Test, y_pred)\n",
    "auc = metrics.roc_auc_score(Y_Test, y_prob[:,1])\n",
    "CompTable['Random Forest'][0] = acc\n",
    "CompTable['Random Forest'][1] = auc\n",
    "\n",
    "#AdaBoost\n",
    "AdaModel = AdaBoostClassifier(n_estimators= n_est, random_state=4, base_estimator = DecisionTreeClassifier(max_depth=12))\n",
    "AdaModel.fit(Train_Coded, Y_Train)\n",
    "y_pred = AdaModel.predict(Test_Coded)\n",
    "y_prob = AdaModel.predict_proba(Test_Coded)\n",
    "acc = metrics.accuracy_score(Y_Test, y_pred)\n",
    "auc = metrics.roc_auc_score(Y_Test, y_prob[:,1])\n",
    "CompTable['AdaBoost'][0] = acc\n",
    "CompTable['AdaBoost'][1] = auc\n",
    "\n",
    "#Gradient Boost\n",
    "GBModel = GradientBoostingClassifier(n_estimators= n_est, random_state=4, max_depth=12)\n",
    "GBModel.fit(Train_Coded, Y_Train)\n",
    "y_pred = GBModel.predict(Test_Coded)\n",
    "y_prob = GBModel.predict_proba(Test_Coded)\n",
    "acc = metrics.accuracy_score(Y_Test, y_pred)\n",
    "auc = metrics.roc_auc_score(Y_Test, y_prob[:,1])\n",
    "CompTable['Gradient Boost'][0] = acc\n",
    "CompTable['Gradient Boost'][1] = auc\n",
    "\n",
    "#XG Boost\n",
    "DTrain = xgb.DMatrix(Train_Coded, label=Y_Train)\n",
    "DTest = xgb.DMatrix(Test_Coded, label=Y_Test)\n",
    "XGModel = xgb.XGBClassifier(n_estimators = n_est, random_state = 4, max_depth = 12)\n",
    "XGModel.fit(Train_Coded, Y_Train)\n",
    "y_pred = XGModel.predict(Test_Coded)\n",
    "y_prob = XGModel.predict_proba(Test_Coded)\n",
    "acc = metrics.accuracy_score(Y_Test, y_pred)\n",
    "auc = metrics.roc_auc_score(Y_Test, y_prob[:,1])\n",
    "CompTable['XGB'][0] = acc\n",
    "CompTable['XGB'][1] = auc"
   ]
  },
  {
   "cell_type": "code",
   "execution_count": 92,
   "id": "fcca54b9",
   "metadata": {},
   "outputs": [
    {
     "name": "stdout",
     "output_type": "stream",
     "text": [
      "         Random Forest  AdaBoost Gradient Boost       XGB\n",
      "Accuracy      0.845894  0.836374       0.837295  0.835207\n",
      "AUC           0.896039  0.861568       0.870385  0.879302\n",
      "~~~~~~~~~~~~~~\n",
      "Common Hyper Parameters:\n",
      "Random Forest: Max_Depth = 12 n_estimators: 200 Random State: 4\n",
      "AdaBoost: Max_Depth = 12 n_estimators: 200 Random State: 4\n",
      "Gradient Boost: Max_Depth = 12 n_estimators: 200 Random State: 4\n",
      "XG Boost: Max_Depth = 12 n_estimators: 200 Random State: 4\n"
     ]
    }
   ],
   "source": [
    "print(CompTable)\n",
    "print('~~~~~~~~~~~~~~')\n",
    "print('Common Hyper Parameters:')\n",
    "print('Random Forest:', 'Max_Depth =', model.get_params()['max_depth'], 'n_estimators:', \n",
    "      model.get_params()['n_estimators'], 'Random State:', model.get_params()['random_state'])\n",
    "print('AdaBoost:', 'Max_Depth =', AdaModel.get_params()['base_estimator__max_depth'], 'n_estimators:', \n",
    "      AdaModel.get_params()['n_estimators'], 'Random State:', AdaModel.get_params()['random_state'])\n",
    "print('Gradient Boost:', 'Max_Depth =', GBModel.get_params()['max_depth'], 'n_estimators:', \n",
    "      GBModel.get_params()['n_estimators'], 'Random State:', GBModel.get_params()['random_state'])\n",
    "print('XG Boost:', 'Max_Depth =', XGModel.get_params()['max_depth'], 'n_estimators:', \n",
    "      XGModel.get_params()['n_estimators'], 'Random State:', XGModel.get_params()['random_state'])"
   ]
  },
  {
   "cell_type": "code",
   "execution_count": null,
   "id": "429c98f1",
   "metadata": {},
   "outputs": [],
   "source": []
  }
 ],
 "metadata": {
  "kernelspec": {
   "display_name": "Python 3 (ipykernel)",
   "language": "python",
   "name": "python3"
  },
  "language_info": {
   "codemirror_mode": {
    "name": "ipython",
    "version": 3
   },
   "file_extension": ".py",
   "mimetype": "text/x-python",
   "name": "python",
   "nbconvert_exporter": "python",
   "pygments_lexer": "ipython3",
   "version": "3.9.7"
  }
 },
 "nbformat": 4,
 "nbformat_minor": 5
}
